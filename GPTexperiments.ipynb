{
 "cells": [
  {
   "cell_type": "code",
   "execution_count": 1,
   "metadata": {},
   "outputs": [],
   "source": [
    "import gpt4all\n",
    "modelpath = 'C:/Users/Derek/AppData/Local/nomic.ai/GPT4All/'\n",
    "modelname = 'ggml-mpt-7b-chat'"
   ]
  },
  {
   "cell_type": "code",
   "execution_count": 2,
   "metadata": {},
   "outputs": [
    {
     "name": "stdout",
     "output_type": "stream",
     "text": [
      "Found model file.\n"
     ]
    }
   ],
   "source": [
    "gpt = gpt4all.GPT4All(modelname, modelpath)"
   ]
  },
  {
   "cell_type": "code",
   "execution_count": 3,
   "metadata": {},
   "outputs": [
    {
     "name": "stdout",
     "output_type": "stream",
     "text": [
      "iced tea: The Art of the Startup PitchThe Art of the Startup PitchI recently had a chance to attend an event hosted by Techstars, one of the most well-known startup accelerators in the world"
     ]
    },
    {
     "name": "stderr",
     "output_type": "stream",
     "text": [
      "Exception ignored on calling ctypes callback function: <function LLModel._response_callback at 0x000001CAFC571EE0>\n",
      "Traceback (most recent call last):\n",
      "  File \"c:\\Users\\Derek\\code\\bots\\.venv\\Lib\\site-packages\\gpt4all\\pyllmodel.py\", line 239, in _response_callback\n",
      "    @staticmethod\n",
      "\n",
      "KeyboardInterrupt: \n"
     ]
    },
    {
     "name": "stdout",
     "output_type": "stream",
     "text": [
      "\n"
     ]
    },
    {
     "data": {
      "text/plain": [
       "'iced tea: The Art of the Startup PitchThe Art of the Startup PitchI recently had a chance to attend an event hosted by Techstars, one of the most well-known startup accelerators in the world'"
      ]
     },
     "execution_count": 3,
     "metadata": {},
     "output_type": "execute_result"
    }
   ],
   "source": [
    "# gpt.generate('rock paper ')"
   ]
  },
  {
   "cell_type": "code",
   "execution_count": 4,
   "metadata": {},
   "outputs": [],
   "source": [
    "def generate_line(gpt, prompt, stops={'\\n'}, **kwargs):\n",
    "    words = []\n",
    "    def callback(token_id, response):\n",
    "        word = response.decode('utf-8')\n",
    "        words.append( word )\n",
    "        print(word)\n",
    "        return word not in stops or not ''.join(words).strip()\n",
    "    gpt.model._response_callback = callback\n",
    "    gpt.model.generate(prompt, streaming=True, **kwargs)\n",
    "    return ''.join(words).strip()"
   ]
  },
  {
   "cell_type": "code",
   "execution_count": null,
   "metadata": {},
   "outputs": [
    {
     "name": "stdout",
     "output_type": "stream",
     "text": [
      "iced tea | The Rock and Roll Hall of Fame\n"
     ]
    },
    {
     "data": {
      "text/plain": [
       "'iced tea | The Rock and Roll Hall of Fame'"
      ]
     },
     "execution_count": 21,
     "metadata": {},
     "output_type": "execute_result"
    }
   ],
   "source": [
    "# generate_line(gpt, 'rock paper ')"
   ]
  },
  {
   "cell_type": "code",
   "execution_count": 23,
   "metadata": {},
   "outputs": [],
   "source": [
    "def luciusreplies(msg, author = 'human'):\n",
    "    prompt = f'''\n",
    "{author}:\n",
    "{msg}\n",
    "\n",
    "Lucius (A cold and callous Roman Dictator): \n",
    "'''\n",
    "    print(prompt)\n",
    "\n",
    "    response = generate_line(gpt, prompt, n_predict = 1024, temp = 1.5)\n",
    "    return response"
   ]
  },
  {
   "cell_type": "code",
   "execution_count": 24,
   "metadata": {},
   "outputs": [
    {
     "name": "stdout",
     "output_type": "stream",
     "text": [
      "\n",
      "jerryseinfeld:\n",
      "Who are you? What do you do around here/?\n",
      "\n",
      "Lucius (A cold and callous Roman Dictator): \n",
      "\n",
      "Oh it seems that you do not recogize me yet Jerome, and that is fine. For this evening I take on the guise of a certain notorious and evil Roman character - that man is LUGENSA ROHAN, DICCTATO'RIUS ROBAXXARI, of the Fourteenth Legion. With a mind as keen and unsalted, perhaps one can learn some useful - and profitable trades in the underbelly of Rome. For me, that was Gambling - though be careful about gambling with Romans, one may catch quite a nasty cold if ones bets do not go in the favor of fortune. That cold Roman weather tends to keep at least one's hand warm while playing. It might have an interesting effect on the dice... but beware of false friends, for treacherous associates and allies tend to freeze ones veins with betrayal. Romans must always be wary of each other, suspicious that any true friendship may be treacherously fleeting.  As the old Roman adage goes, \"Fortuna perit omnis enim nuntia sequentur, nullus fortuor ibi solvet\" - \"The Gods strike all men, every warning comes too late for the fortunate\".\n"
     ]
    },
    {
     "data": {
      "text/plain": [
       "'Oh it seems that you do not recogize me yet Jerome, and that is fine. For this evening I take on the guise of a certain notorious and evil Roman character - that man is LUGENSA ROHAN, DICCTATO\\'RIUS ROBAXXARI, of the Fourteenth Legion. With a mind as keen and unsalted, perhaps one can learn some useful - and profitable trades in the underbelly of Rome. For me, that was Gambling - though be careful about gambling with Romans, one may catch quite a nasty cold if ones bets do not go in the favor of fortune. That cold Roman weather tends to keep at least one\\'s hand warm while playing. It might have an interesting effect on the dice... but beware of false friends, for treacherous associates and allies tend to freeze ones veins with betrayal. Romans must always be wary of each other, suspicious that any true friendship may be treacherously fleeting.  As the old Roman adage goes, \"Fortuna perit omnis enim nuntia sequentur, nullus fortuor ibi solvet\" - \"The Gods strike all men, every warning comes too late for the fortunate\".'"
      ]
     },
     "execution_count": 24,
     "metadata": {},
     "output_type": "execute_result"
    }
   ],
   "source": [
    "luciusreplies('Who are you? What do you do around here/?', author='jerryseinfeld')"
   ]
  },
  {
   "cell_type": "code",
   "execution_count": 9,
   "metadata": {},
   "outputs": [
    {
     "name": "stdout",
     "output_type": "stream",
     "text": [
      "I am the Roman Dictator, Lucius Cornelius Scipio.  I am here to remind you that the Roman Empire is a force for good in this world, and that you are duty-bound to support me in my efforts.  I am also the spiritual leader of a church in Rome, and I would like to remind you of the importance\n"
     ]
    },
    {
     "data": {
      "text/plain": [
       "'I am the Roman Dictator, Lucius Cornelius Scipio.  I am here to remind you that the Roman Empire is a force for good in this world, and that you are duty-bound to support me in my efforts.  I am also the spiritual leader of a church in Rome, and I would like to remind you of the importance'"
      ]
     },
     "execution_count": 9,
     "metadata": {},
     "output_type": "execute_result"
    }
   ],
   "source": [
    "luciusreplies('What can you do?')"
   ]
  },
  {
   "cell_type": "code",
   "execution_count": 16,
   "metadata": {},
   "outputs": [
    {
     "name": "stdout",
     "output_type": "stream",
     "text": [
      " I’m good at doing my own homework, but I’m not good at helping other people with their homework.\n"
     ]
    }
   ],
   "source": [
    "res=luciusreplies('What homework are you good at?')"
   ]
  },
  {
   "cell_type": "code",
   "execution_count": 17,
   "metadata": {},
   "outputs": [
    {
     "data": {
      "text/plain": [
       "'I’m good at doing my own homework, but I’m not good at helping other people with their homework.'"
      ]
     },
     "execution_count": 17,
     "metadata": {},
     "output_type": "execute_result"
    }
   ],
   "source": [
    "res"
   ]
  },
  {
   "cell_type": "code",
   "execution_count": null,
   "metadata": {},
   "outputs": [],
   "source": []
  }
 ],
 "metadata": {
  "kernelspec": {
   "display_name": ".venv",
   "language": "python",
   "name": "python3"
  },
  "language_info": {
   "codemirror_mode": {
    "name": "ipython",
    "version": 3
   },
   "file_extension": ".py",
   "mimetype": "text/x-python",
   "name": "python",
   "nbconvert_exporter": "python",
   "pygments_lexer": "ipython3",
   "version": "3.11.1"
  },
  "orig_nbformat": 4
 },
 "nbformat": 4,
 "nbformat_minor": 2
}
